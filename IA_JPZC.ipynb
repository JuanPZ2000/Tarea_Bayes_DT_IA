{
  "nbformat": 4,
  "nbformat_minor": 0,
  "metadata": {
    "colab": {
      "name": "IA_JPZC.ipynb",
      "provenance": [],
      "authorship_tag": "ABX9TyNZ+Bx4zCLRTMy5nTjQGP0d",
      "include_colab_link": true
    },
    "kernelspec": {
      "name": "python3",
      "display_name": "Python 3"
    },
    "language_info": {
      "name": "python"
    }
  },
  "cells": [
    {
      "cell_type": "markdown",
      "metadata": {
        "id": "view-in-github",
        "colab_type": "text"
      },
      "source": [
        "<a href=\"https://colab.research.google.com/github/JuanPZ2000/Tarea_Bayes_DT_IA/blob/main/IA_JPZC.ipynb\" target=\"_parent\"><img src=\"https://colab.research.google.com/assets/colab-badge.svg\" alt=\"Open In Colab\"/></a>"
      ]
    },
    {
      "cell_type": "code",
      "metadata": {
        "id": "fcIDg-Q29aHm"
      },
      "source": [
        "import numpy as np\n",
        "from sklearn.model_selection import train_test_split\n",
        "from sklearn import datasets\n",
        "from sklearn import svm\n",
        "from sklearn.preprocessing import StandardScaler\n",
        "from sklearn.naive_bayes import GaussianNB\n",
        "from sklearn.metrics import matthews_corrcoef\n",
        "from sklearn.metrics import f1_score\n",
        "from sklearn.metrics import accuracy_score\n",
        "from sklearn import tree\n",
        "from sklearn.tree import DecisionTreeClassifier\n",
        "from sklearn.naive_bayes import CategoricalNB\n",
        "from sklearn.preprocessing import MinMaxScaler\n",
        "from sklearn.naive_bayes import BernoulliNB\n",
        "\n",
        "x, y = datasets.load_iris(return_X_y=True)\n",
        "sc= MinMaxScaler()\n",
        "sc.fit(x)\n",
        "x=sc.transform(x)\n",
        "X_train, X_test, y_train, y_test = train_test_split(x, y, test_size=0.27, random_state=0)"
      ],
      "execution_count": 18,
      "outputs": []
    },
    {
      "cell_type": "markdown",
      "metadata": {
        "id": "J9yr99d9_Aup"
      },
      "source": [
        "Nave Bayes\n"
      ]
    },
    {
      "cell_type": "code",
      "metadata": {
        "colab": {
          "base_uri": "https://localhost:8080/"
        },
        "id": "Yi23TooK_B00",
        "outputId": "ad7fc8ba-c8f6-4754-8226-d88d6413fdad"
      },
      "source": [
        "nb = GaussianNB()\n",
        "nb.fit(X_train, y_train)\n",
        "y_pred=nb.predict(X_test)\n",
        "\n",
        "print(\"F1: \",f1_score(y_test,y_pred,average='micro'))\n",
        "print(\"MCC: \",matthews_corrcoef(y_test,y_pred))\n",
        "print(\"Accuracy:\",accuracy_score(y_test, y_pred))\n",
        "\n",
        "F1=[]\n",
        "MCC=[]\n",
        "dd=[]\n",
        "for i in range(1, 29):\n",
        "  cl = BernoulliNB(alpha=i)\n",
        "  cl.fit(X_train, y_train)\n",
        "  y_pred= cl.predict(X_test)\n",
        "  MCC.append(matthews_corrcoef(y_test,y_pred))\n",
        "  F1.append(f1_score(y_test,y_pred,average='micro'))\n",
        "  dd.append(i)\n",
        "\n",
        "print(MCC)\n",
        "max_F1  = F1.index(max(F1))\n",
        "print(\"Segun F1({})  el mejor alpha es: {} \".format(max(F1),dd[max_F1]))\n",
        "max_MCC = MCC.index(max(MCC))\n",
        "print(\"Segun MCC({}) el mejor alpha es: {} \".format(max(MCC),dd[max_MCC]))\n"
      ],
      "execution_count": 20,
      "outputs": [
        {
          "output_type": "stream",
          "name": "stdout",
          "text": [
            "F1:  1.0\n",
            "MCC:  1.0\n",
            "Accuracy: 1.0\n",
            "[0.12880245932982712, 0.12880245932982712, 0.12880245932982712, 0.12880245932982712, 0.12880245932982712, 0.12880245932982712, 0.12880245932982712, 0.12880245932982712, 0.12880245932982712, 0.12880245932982712, 0.12880245932982712, 0.12880245932982712, 0.12880245932982712, 0.12880245932982712, 0.12880245932982712, 0.12880245932982712, 0.12880245932982712, 0.12880245932982712, 0.12880245932982712, 0.12880245932982712, 0.12880245932982712, 0.12880245932982712, 0.12880245932982712, 0.12880245932982712, 0.12880245932982712, 0.12880245932982712, 0.12880245932982712, 0.12880245932982712]\n",
            "Segun F1(0.2682926829268293)  el mejor alpha es: 1 \n",
            "Segun MCC(0.12880245932982712) el mejor alpha es: 1 \n"
          ]
        }
      ]
    },
    {
      "cell_type": "markdown",
      "metadata": {
        "id": "omaO4glJ_95Y"
      },
      "source": [
        "Decision trees"
      ]
    },
    {
      "cell_type": "code",
      "metadata": {
        "colab": {
          "base_uri": "https://localhost:8080/"
        },
        "id": "V4P0VJ3mArKD",
        "outputId": "5ec2b22f-e12c-4fa7-e868-efae0f2080bc"
      },
      "source": [
        "cl = tree.DecisionTreeClassifier()\n",
        "cl.fit(X_train, y_train)\n",
        "y_predict_tree=cl.predict(X_test)\n",
        "print(\"MCC:\",matthews_corrcoef(y_test,y_predict_tree))\n",
        "print(\"F1:\",f1_score(y_test,y_predict_tree,average='micro'))\n",
        "print(\"Accuracy:\",accuracy_score(y_test, y_predict_tree))\n",
        "\n",
        "dd=[]\n",
        "rr=[]\n",
        "MCC=[]\n",
        "F1=[]\n",
        "\n",
        "for r in range(40):\n",
        "  for d in range(40):\n",
        "    decision_tree = DecisionTreeClassifier(random_state=0, max_depth=d+1)\n",
        "    decision_tree.fit(X_train, y_train)\n",
        "    y_predict_tree=decision_tree.predict(X_test)\n",
        "    MCC.append(matthews_corrcoef(y_test,y_predict_tree))\n",
        "    F1.append(f1_score(y_test,y_predict_tree,average='micro'))\n",
        "    dd.append(d)\n",
        "    rr.append(r)\n",
        "\n",
        "\n",
        "max_F1  = F1.index(max(F1))\n",
        "print(\"Segun F1({})  el mejor depth es: {} y el random correspondiente es: {}\".format(max(F1),dd[max_F1]+1,rr[max_F1]))\n",
        "\n",
        "max_MCC = MCC.index(max(MCC))\n",
        "print(\"Segun MCC({}) el mejor depth es: {} y el random correspondiente es: {}\".format(max(MCC),dd[max_MCC]+1,rr[max_MCC]))\n"
      ],
      "execution_count": 21,
      "outputs": [
        {
          "output_type": "stream",
          "name": "stdout",
          "text": [
            "MCC: 0.9634900070860468\n",
            "F1: 0.975609756097561\n",
            "Accuracy: 0.975609756097561\n",
            "Segun F1(0.975609756097561)  el mejor depth es: 3 y el random correspondiente es: 0\n",
            "Segun MCC(0.9634900070860468) el mejor depth es: 3 y el random correspondiente es: 0\n"
          ]
        }
      ]
    },
    {
      "cell_type": "code",
      "metadata": {
        "id": "c6u6PlmRAO9P"
      },
      "source": [
        ""
      ],
      "execution_count": null,
      "outputs": []
    }
  ]
}